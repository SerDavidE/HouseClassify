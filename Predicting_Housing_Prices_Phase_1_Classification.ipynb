{
  "nbformat": 4,
  "nbformat_minor": 0,
  "metadata": {
    "colab": {
      "provenance": [],
      "mount_file_id": "1-x-8_gaOHte6A1_LTqIXj2Uv1Q1kpDbA",
      "authorship_tag": "ABX9TyOTkTz+yE/JpjREuO3FESZP",
      "include_colab_link": true
    },
    "kernelspec": {
      "name": "python3",
      "display_name": "Python 3"
    },
    "language_info": {
      "name": "python"
    }
  },
  "cells": [
    {
      "cell_type": "markdown",
      "metadata": {
        "id": "view-in-github",
        "colab_type": "text"
      },
      "source": [
        "<a href=\"https://colab.research.google.com/github/SerDavidE/HouseClassify/blob/main/Predicting_Housing_Prices_Phase_1_Classification.ipynb\" target=\"_parent\"><img src=\"https://colab.research.google.com/assets/colab-badge.svg\" alt=\"Open In Colab\"/></a>"
      ]
    },
    {
      "cell_type": "code",
      "source": [
        "import pandas as pd"
      ],
      "metadata": {
        "id": "JZ8bIzGAgCpI"
      },
      "execution_count": 6,
      "outputs": []
    },
    {
      "cell_type": "code",
      "source": [
        "file_path = '/content/drive/MyDrive/Colab Notebooks/Chapter_7_Supervised_Machine_Learning/Classification/housing-classification-iter6.csv'\n",
        "housing_data = pd.read_csv(file_path)"
      ],
      "metadata": {
        "id": "xbW91ByBhC_7"
      },
      "execution_count": 7,
      "outputs": []
    },
    {
      "cell_type": "code",
      "source": [
        "# Reading the data description file\n",
        "data_description_path = '/content/drive/MyDrive/Colab Notebooks/Chapter_7_Supervised_Machine_Learning/data_description.txt'\n",
        "\n",
        "# Displaying the first few lines of the data description\n",
        "with open(data_description_path, 'r') as file:\n",
        "    data_description = file.readlines()\n",
        "\n",
        "# Show the first 20 lines to get an idea of the content\n",
        "data_description[:20]"
      ],
      "metadata": {
        "colab": {
          "base_uri": "https://localhost:8080/"
        },
        "id": "tlzu0bXuuU2c",
        "outputId": "a8134839-c3d4-41c8-9758-555becc5032e"
      },
      "execution_count": 8,
      "outputs": [
        {
          "output_type": "execute_result",
          "data": {
            "text/plain": [
              "['MSSubClass: Identifies the type of dwelling involved in the sale.\\t\\n',\n",
              " '\\n',\n",
              " '        20\\t1-STORY 1946 & NEWER ALL STYLES\\n',\n",
              " '        30\\t1-STORY 1945 & OLDER\\n',\n",
              " '        40\\t1-STORY W/FINISHED ATTIC ALL AGES\\n',\n",
              " '        45\\t1-1/2 STORY - UNFINISHED ALL AGES\\n',\n",
              " '        50\\t1-1/2 STORY FINISHED ALL AGES\\n',\n",
              " '        60\\t2-STORY 1946 & NEWER\\n',\n",
              " '        70\\t2-STORY 1945 & OLDER\\n',\n",
              " '        75\\t2-1/2 STORY ALL AGES\\n',\n",
              " '        80\\tSPLIT OR MULTI-LEVEL\\n',\n",
              " '        85\\tSPLIT FOYER\\n',\n",
              " '        90\\tDUPLEX - ALL STYLES AND AGES\\n',\n",
              " '       120\\t1-STORY PUD (Planned Unit Development) - 1946 & NEWER\\n',\n",
              " '       150\\t1-1/2 STORY PUD - ALL AGES\\n',\n",
              " '       160\\t2-STORY PUD - 1946 & NEWER\\n',\n",
              " '       180\\tPUD - MULTILEVEL - INCL SPLIT LEV/FOYER\\n',\n",
              " '       190\\t2 FAMILY CONVERSION - ALL STYLES AND AGES\\n',\n",
              " '\\n',\n",
              " 'MSZoning: Identifies the general zoning classification of the sale.\\n']"
            ]
          },
          "metadata": {},
          "execution_count": 8
        }
      ]
    },
    {
      "cell_type": "code",
      "source": [
        "# Checking for missing values in each column\n",
        "missing_values = housing_data.isnull().sum()\n",
        "missing_values[missing_values > 0].sort_values(ascending=False)"
      ],
      "metadata": {
        "colab": {
          "base_uri": "https://localhost:8080/"
        },
        "id": "oQ92iCFlubId",
        "outputId": "290b7b9c-cae6-4fc4-dcff-9db50c1f481b"
      },
      "execution_count": 9,
      "outputs": [
        {
          "output_type": "execute_result",
          "data": {
            "text/plain": [
              "PoolQC          1453\n",
              "MiscFeature     1406\n",
              "Alley           1369\n",
              "Fence           1179\n",
              "FireplaceQu      690\n",
              "LotFrontage      259\n",
              "GarageYrBlt       81\n",
              "GarageType        81\n",
              "GarageFinish      81\n",
              "GarageQual        81\n",
              "GarageCond        81\n",
              "BsmtFinType2      38\n",
              "BsmtExposure      38\n",
              "BsmtFinType1      37\n",
              "BsmtQual          37\n",
              "BsmtCond          37\n",
              "MasVnrArea         8\n",
              "MasVnrType         8\n",
              "Electrical         1\n",
              "dtype: int64"
            ]
          },
          "metadata": {},
          "execution_count": 9
        }
      ]
    },
    {
      "cell_type": "code",
      "source": [
        "from sklearn.model_selection import train_test_split\n",
        "from sklearn.impute import SimpleImputer\n",
        "from sklearn.tree import DecisionTreeClassifier\n",
        "from sklearn.neighbors import KNeighborsClassifier\n",
        "from sklearn.metrics import accuracy_score\n",
        "from sklearn.pipeline import make_pipeline, Pipeline\n",
        "from sklearn.preprocessing import OneHotEncoder, StandardScaler\n",
        "from sklearn.compose import ColumnTransformer\n",
        "\n",
        "# Splitting the data into features and target\n",
        "X = housing_data.drop('Expensive', axis=1)\n",
        "y = housing_data['Expensive']\n",
        "\n",
        "# Splitting the data into training and test sets\n",
        "X_train, X_test, y_train, y_test = train_test_split(X, y, test_size=0.2, random_state=42)\n",
        "\n",
        "# Identifying numerical and categorical columns\n",
        "numerical_cols = X_train.select_dtypes(include=['int64', 'float64']).columns\n",
        "categorical_cols = X_train.select_dtypes(include=['object']).columns\n",
        "\n",
        "# Creating numerical transformer with mean imputation and scaling\n",
        "numerical_transformer = Pipeline(steps=[\n",
        "    ('imputer', SimpleImputer(strategy='mean')),\n",
        "    ('scaler', StandardScaler())\n",
        "])\n",
        "\n",
        "# Creating categorical transformer with most frequent imputation and one-hot encoding\n",
        "categorical_transformer = Pipeline(steps=[\n",
        "    ('imputer', SimpleImputer(strategy='most_frequent')),\n",
        "    ('onehot', OneHotEncoder(handle_unknown='ignore'))\n",
        "])\n",
        "\n",
        "# Creating preprocessor using ColumnTransformer\n",
        "preprocessor = ColumnTransformer(\n",
        "    transformers=[\n",
        "        ('num', numerical_transformer, numerical_cols),\n",
        "        ('cat', categorical_transformer, categorical_cols)\n",
        "    ])\n",
        "\n",
        "# Creating pipeline for KNN\n",
        "knn_pipeline = Pipeline(steps=[('preprocessor', preprocessor),\n",
        "                               ('classifier', KNeighborsClassifier())])\n",
        "\n",
        "# Creating pipeline for Decision Tree\n",
        "dt_pipeline = Pipeline(steps=[('preprocessor', preprocessor),\n",
        "                              ('classifier', DecisionTreeClassifier(random_state=42))])\n",
        "\n",
        "# Fitting and evaluating KNN pipeline\n",
        "knn_pipeline.fit(X_train, y_train)\n",
        "knn_predictions = knn_pipeline.predict(X_test)\n",
        "knn_accuracy = accuracy_score(y_test, knn_predictions)\n",
        "\n",
        "# Fitting and evaluating Decision Tree pipeline\n",
        "dt_pipeline.fit(X_train, y_train)\n",
        "dt_predictions = dt_pipeline.predict(X_test)\n",
        "dt_accuracy = accuracy_score(y_test, dt_predictions)\n",
        "\n",
        "knn_accuracy, dt_accuracy"
      ],
      "metadata": {
        "colab": {
          "base_uri": "https://localhost:8080/"
        },
        "id": "5NJs1XBfubpO",
        "outputId": "83d36a76-d540-445c-aa61-669a81d7d3f4"
      },
      "execution_count": 10,
      "outputs": [
        {
          "output_type": "execute_result",
          "data": {
            "text/plain": [
              "(0.9383561643835616, 0.934931506849315)"
            ]
          },
          "metadata": {},
          "execution_count": 10
        }
      ]
    },
    {
      "cell_type": "code",
      "source": [
        "from sklearn.model_selection import GridSearchCV\n",
        "\n",
        "# Hyperparameters to tune for KNN\n",
        "knn_param_grid = {\n",
        "    'classifier__n_neighbors': [3, 5, 7, 9],\n",
        "    'classifier__weights': ['uniform', 'distance'],\n",
        "    'classifier__p': [1, 2] # manhattan_distance and euclidean_distance\n",
        "}\n",
        "\n",
        "# Grid search with KNN pipeline\n",
        "knn_grid_search = GridSearchCV(knn_pipeline, knn_param_grid, cv=5)\n",
        "knn_grid_search.fit(X_train, y_train)\n",
        "\n",
        "# Best hyperparameters for KNN\n",
        "knn_best_params = knn_grid_search.best_params_\n",
        "knn_best_score = knn_grid_search.best_score_\n",
        "\n",
        "knn_best_params, knn_best_score"
      ],
      "metadata": {
        "colab": {
          "base_uri": "https://localhost:8080/"
        },
        "id": "LgyF9IZkulzx",
        "outputId": "1e11b7c4-84e8-486a-9013-aca2e3c71e6b"
      },
      "execution_count": 11,
      "outputs": [
        {
          "output_type": "execute_result",
          "data": {
            "text/plain": [
              "({'classifier__n_neighbors': 7,\n",
              "  'classifier__p': 1,\n",
              "  'classifier__weights': 'distance'},\n",
              " 0.9366494259198122)"
            ]
          },
          "metadata": {},
          "execution_count": 11
        }
      ]
    },
    {
      "cell_type": "code",
      "source": [
        "# Hyperparameters to tune for Decision Tree\n",
        "dt_param_grid = {\n",
        "    'classifier__criterion': ['gini', 'entropy'],\n",
        "    'classifier__max_depth': [None, 10, 20, 30],\n",
        "    'classifier__min_samples_split': [2, 5, 10]\n",
        "}\n",
        "\n",
        "# Grid search with Decision Tree pipeline\n",
        "dt_grid_search = GridSearchCV(dt_pipeline, dt_param_grid, cv=5)\n",
        "dt_grid_search.fit(X_train, y_train)\n",
        "\n",
        "# Best hyperparameters for Decision Tree\n",
        "dt_best_params = dt_grid_search.best_params_\n",
        "dt_best_score = dt_grid_search.best_score_\n",
        "\n",
        "dt_best_params, dt_best_score"
      ],
      "metadata": {
        "colab": {
          "base_uri": "https://localhost:8080/"
        },
        "id": "msVVNkQvuqdA",
        "outputId": "eb47ad16-acee-4713-d684-19f28fcb677b"
      },
      "execution_count": 12,
      "outputs": [
        {
          "output_type": "execute_result",
          "data": {
            "text/plain": [
              "({'classifier__criterion': 'gini',\n",
              "  'classifier__max_depth': 10,\n",
              "  'classifier__min_samples_split': 10},\n",
              " 0.9289497817394812)"
            ]
          },
          "metadata": {},
          "execution_count": 12
        }
      ]
    },
    {
      "cell_type": "code",
      "source": [
        "from sklearn.metrics import confusion_matrix, roc_curve, auc, ConfusionMatrixDisplay\n",
        "import seaborn as sns\n",
        "import matplotlib.pyplot as plt\n",
        "\n",
        "# Test accuracy for KNN using best hyperparameters\n",
        "knn_test_accuracy = accuracy_score(knn_grid_search.predict(X_test), y_test)\n",
        "\n",
        "\n",
        "# Plotting the confusion matrix for the test set predictions\n",
        "confusion_mat = confusion_matrix(y_test, knn_grid_search.predict(X_test))\n",
        "display_labels = [\"Not Expensive\", \"Expensive\"]\n",
        "cm_display = ConfusionMatrixDisplay(confusion_mat, display_labels=display_labels).plot()\n",
        "\n",
        "knn_test_accuracy"
      ],
      "metadata": {
        "colab": {
          "base_uri": "https://localhost:8080/",
          "height": 467
        },
        "id": "NC_jaqYbuubf",
        "outputId": "ae37e408-1134-4ac6-a828-82927f0eacda"
      },
      "execution_count": 13,
      "outputs": [
        {
          "output_type": "execute_result",
          "data": {
            "text/plain": [
              "0.9383561643835616"
            ]
          },
          "metadata": {},
          "execution_count": 13
        },
        {
          "output_type": "display_data",
          "data": {
            "text/plain": [
              "<Figure size 640x480 with 2 Axes>"
            ],
            "image/png": "[encoded data removed]"
          },
          "metadata": {}
        }
      ]
    },
    {
      "cell_type": "code",
      "source": [
        "# Test accuracy for Decision Tree using best hyperparameters\n",
        "dt_test_accuracy = accuracy_score(dt_grid_search.predict(X_test), y_test)\n",
        "\n",
        "# Plotting the confusion matrix for the test set predictions\n",
        "confusion_mat = confusion_matrix(y_test, dt_grid_search.predict(X_test))\n",
        "display_labels = [\"Not Expensive\", \"Expensive\"]\n",
        "cm_display = ConfusionMatrixDisplay(confusion_mat, display_labels=display_labels).plot()\n",
        "\n",
        "dt_test_accuracy"
      ],
      "metadata": {
        "colab": {
          "base_uri": "https://localhost:8080/",
          "height": 467
        },
        "id": "lKUng0cluxpt",
        "outputId": "5ee42bd0-3d3e-443c-e85c-7620af0997b6"
      },
      "execution_count": 14,
      "outputs": [
        {
          "output_type": "execute_result",
          "data": {
            "text/plain": [
              "0.9178082191780822"
            ]
          },
          "metadata": {},
          "execution_count": 14
        },
        {
          "output_type": "display_data",
          "data": {
            "text/plain": [
              "<Figure size 640x480 with 2 Axes>"
            ],
            "image/png": "[encoded data removed]"
          },
          "metadata": {}
        }
      ]
    },
    {
      "cell_type": "code",
      "source": [
        "from sklearn.linear_model import LogisticRegression\n",
        "\n",
        "# Creating pipeline for Logistic Regression\n",
        "lr_pipeline = Pipeline(steps=[('preprocessor', preprocessor),\n",
        "                              ('classifier', LogisticRegression(random_state=42))])\n",
        "\n",
        "# Fitting and evaluating Logistic Regression pipeline\n",
        "lr_pipeline.fit(X_train, y_train)\n",
        "lr_predictions = lr_pipeline.predict(X_test)\n",
        "lr_accuracy = accuracy_score(y_test, lr_predictions)\n",
        "\n",
        "lr_accuracy"
      ],
      "metadata": {
        "colab": {
          "base_uri": "https://localhost:8080/"
        },
        "id": "5X_9fshZu1Qj",
        "outputId": "9e5715f1-6684-4d64-d38e-e44949a7beb8"
      },
      "execution_count": 15,
      "outputs": [
        {
          "output_type": "stream",
          "name": "stderr",
          "text": [
            "/usr/local/lib/python3.10/dist-packages/sklearn/linear_model/_logistic.py:458: ConvergenceWarning: lbfgs failed to converge (status=1):\n",
            "STOP: TOTAL NO. of ITERATIONS REACHED LIMIT.\n",
            "\n",
            "Increase the number of iterations (max_iter) or scale the data as shown in:\n",
            "    https://scikit-learn.org/stable/modules/preprocessing.html\n",
            "Please also refer to the documentation for alternative solver options:\n",
            "    https://scikit-learn.org/stable/modules/linear_model.html#logistic-regression\n",
            "  n_iter_i = _check_optimize_result(\n"
          ]
        },
        {
          "output_type": "execute_result",
          "data": {
            "text/plain": [
              "0.9452054794520548"
            ]
          },
          "metadata": {},
          "execution_count": 15
        }
      ]
    },
    {
      "cell_type": "code",
      "source": [
        "from sklearn.svm import SVC\n",
        "\n",
        "# Creating pipeline for Support Vector Machine\n",
        "svm_pipeline = Pipeline(steps=[('preprocessor', preprocessor),\n",
        "                               ('classifier', SVC(random_state=42))])\n",
        "\n",
        "# Fitting and evaluating SVM pipeline\n",
        "svm_pipeline.fit(X_train, y_train)\n",
        "svm_predictions = svm_pipeline.predict(X_test)\n",
        "svm_accuracy = accuracy_score(y_test, svm_predictions)\n",
        "\n",
        "svm_accuracy"
      ],
      "metadata": {
        "colab": {
          "base_uri": "https://localhost:8080/"
        },
        "id": "pNnbwS4qu4tL",
        "outputId": "f1c5e606-46d0-4fdf-f22a-e9b33a536982"
      },
      "execution_count": 16,
      "outputs": [
        {
          "output_type": "execute_result",
          "data": {
            "text/plain": [
              "0.9417808219178082"
            ]
          },
          "metadata": {},
          "execution_count": 16
        }
      ]
    },
    {
      "cell_type": "code",
      "source": [
        "from sklearn.ensemble import RandomForestClassifier\n",
        "\n",
        "# Creating pipeline for Random Forest\n",
        "rf_pipeline = Pipeline(steps=[('preprocessor', preprocessor),\n",
        "                              ('classifier', RandomForestClassifier(random_state=42))])\n",
        "\n",
        "# Fitting and evaluating Random Forest pipeline\n",
        "rf_pipeline.fit(X_train, y_train)\n",
        "rf_predictions = rf_pipeline.predict(X_test)\n",
        "rf_accuracy = accuracy_score(y_test, rf_predictions)\n",
        "\n",
        "rf_accuracy"
      ],
      "metadata": {
        "colab": {
          "base_uri": "https://localhost:8080/"
        },
        "id": "Ap7GZwanu7iC",
        "outputId": "92a2475a-2db0-4405-b9ee-775826b981fb"
      },
      "execution_count": 17,
      "outputs": [
        {
          "output_type": "execute_result",
          "data": {
            "text/plain": [
              "0.952054794520548"
            ]
          },
          "metadata": {},
          "execution_count": 17
        }
      ]
    },
    {
      "cell_type": "code",
      "source": [
        "# Multi-classifier pipeline\n",
        "MC_full_pipeline = Pipeline([('preprocessor', preprocessor),\n",
        "                             ('classifier', None)])\n",
        "\n",
        "# Multi-classifier parameter grid\n",
        "MC_param_grid = [\n",
        "    {\n",
        "        'classifier': [DecisionTreeClassifier(random_state=42)],\n",
        "        \"preprocessor__num__imputer__strategy\": [\"mean\", \"median\"],\n",
        "        \"classifier__max_depth\": range(2, 14, 3),\n",
        "        \"classifier__min_samples_leaf\": range(3, 12, 3)\n",
        "    },\n",
        "    {\n",
        "        'classifier': [KNeighborsClassifier()],\n",
        "        \"preprocessor__num__imputer__strategy\": [\"mean\", \"median\"],\n",
        "        'classifier__n_neighbors': [3, 5, 7, 9]\n",
        "    },\n",
        "    {\n",
        "        'classifier': [LogisticRegression(random_state=42)],\n",
        "        \"preprocessor__num__imputer__strategy\": [\"mean\", \"median\"],\n",
        "        'classifier__C': [0.1, 1.0, 10.0]\n",
        "    },\n",
        "    {\n",
        "        'classifier': [SVC(random_state=42)],\n",
        "        \"preprocessor__num__imputer__strategy\": [\"mean\", \"median\"],\n",
        "        'classifier__C': [0.1, 1.0, 10.0]\n",
        "    },\n",
        "    {\n",
        "        'classifier': [RandomForestClassifier(random_state=42)],\n",
        "        \"preprocessor__num__imputer__strategy\": [\"mean\", \"median\"],\n",
        "        'classifier__n_estimators': [50, 100, 150],\n",
        "        'classifier__max_depth': [None, 10, 20, 30],\n",
        "        'classifier__min_samples_split': [2, 5, 10]\n",
        "    }\n",
        "]\n",
        "\n",
        "# Grid Search with multiple classifiers\n",
        "MC_search = GridSearchCV(MC_full_pipeline,\n",
        "                         MC_param_grid,\n",
        "                         cv=5,\n",
        "                         scoring='accuracy',\n",
        "                         verbose=1)\n",
        "\n",
        "# Fitting the Grid Search\n",
        "MC_search.fit(X_train, y_train)\n",
        "\n",
        "# Best parameters and model\n",
        "MC_best_params = MC_search.best_params_\n",
        "MC_best_model = MC_search.best_estimator_\n",
        "MC_best_score = MC_search.best_score_\n",
        "\n",
        "MC_best_params, MC_best_score"
      ],
      "metadata": {
        "colab": {
          "base_uri": "https://localhost:8080/"
        },
        "id": "KPYsLz55vAPQ",
        "outputId": "43647bc9-aa2a-4f2c-b7ff-a6e75aff9fbe"
      },
      "execution_count": 18,
      "outputs": [
        {
          "output_type": "stream",
          "name": "stdout",
          "text": [
            "Fitting 5 folds for each of 116 candidates, totalling 580 fits\n"
          ]
        },
        {
          "output_type": "stream",
          "name": "stderr",
          "text": [
            "/usr/local/lib/python3.10/dist-packages/sklearn/linear_model/_logistic.py:458: ConvergenceWarning: lbfgs failed to converge (status=1):\n",
            "STOP: TOTAL NO. of ITERATIONS REACHED LIMIT.\n",
            "\n",
            "Increase the number of iterations (max_iter) or scale the data as shown in:\n",
            "    https://scikit-learn.org/stable/modules/preprocessing.html\n",
            "Please also refer to the documentation for alternative solver options:\n",
            "    https://scikit-learn.org/stable/modules/linear_model.html#logistic-regression\n",
            "  n_iter_i = _check_optimize_result(\n",
            "/usr/local/lib/python3.10/dist-packages/sklearn/linear_model/_logistic.py:458: ConvergenceWarning: lbfgs failed to converge (status=1):\n",
            "STOP: TOTAL NO. of ITERATIONS REACHED LIMIT.\n",
            "\n",
            "Increase the number of iterations (max_iter) or scale the data as shown in:\n",
            "    https://scikit-learn.org/stable/modules/preprocessing.html\n",
            "Please also refer to the documentation for alternative solver options:\n",
            "    https://scikit-learn.org/stable/modules/linear_model.html#logistic-regression\n",
            "  n_iter_i = _check_optimize_result(\n",
            "/usr/local/lib/python3.10/dist-packages/sklearn/linear_model/_logistic.py:458: ConvergenceWarning: lbfgs failed to converge (status=1):\n",
            "STOP: TOTAL NO. of ITERATIONS REACHED LIMIT.\n",
            "\n",
            "Increase the number of iterations (max_iter) or scale the data as shown in:\n",
            "    https://scikit-learn.org/stable/modules/preprocessing.html\n",
            "Please also refer to the documentation for alternative solver options:\n",
            "    https://scikit-learn.org/stable/modules/linear_model.html#logistic-regression\n",
            "  n_iter_i = _check_optimize_result(\n",
            "/usr/local/lib/python3.10/dist-packages/sklearn/linear_model/_logistic.py:458: ConvergenceWarning: lbfgs failed to converge (status=1):\n",
            "STOP: TOTAL NO. of ITERATIONS REACHED LIMIT.\n",
            "\n",
            "Increase the number of iterations (max_iter) or scale the data as shown in:\n",
            "    https://scikit-learn.org/stable/modules/preprocessing.html\n",
            "Please also refer to the documentation for alternative solver options:\n",
            "    https://scikit-learn.org/stable/modules/linear_model.html#logistic-regression\n",
            "  n_iter_i = _check_optimize_result(\n",
            "/usr/local/lib/python3.10/dist-packages/sklearn/linear_model/_logistic.py:458: ConvergenceWarning: lbfgs failed to converge (status=1):\n",
            "STOP: TOTAL NO. of ITERATIONS REACHED LIMIT.\n",
            "\n",
            "Increase the number of iterations (max_iter) or scale the data as shown in:\n",
            "    https://scikit-learn.org/stable/modules/preprocessing.html\n",
            "Please also refer to the documentation for alternative solver options:\n",
            "    https://scikit-learn.org/stable/modules/linear_model.html#logistic-regression\n",
            "  n_iter_i = _check_optimize_result(\n",
            "/usr/local/lib/python3.10/dist-packages/sklearn/linear_model/_logistic.py:458: ConvergenceWarning: lbfgs failed to converge (status=1):\n",
            "STOP: TOTAL NO. of ITERATIONS REACHED LIMIT.\n",
            "\n",
            "Increase the number of iterations (max_iter) or scale the data as shown in:\n",
            "    https://scikit-learn.org/stable/modules/preprocessing.html\n",
            "Please also refer to the documentation for alternative solver options:\n",
            "    https://scikit-learn.org/stable/modules/linear_model.html#logistic-regression\n",
            "  n_iter_i = _check_optimize_result(\n",
            "/usr/local/lib/python3.10/dist-packages/sklearn/linear_model/_logistic.py:458: ConvergenceWarning: lbfgs failed to converge (status=1):\n",
            "STOP: TOTAL NO. of ITERATIONS REACHED LIMIT.\n",
            "\n",
            "Increase the number of iterations (max_iter) or scale the data as shown in:\n",
            "    https://scikit-learn.org/stable/modules/preprocessing.html\n",
            "Please also refer to the documentation for alternative solver options:\n",
            "    https://scikit-learn.org/stable/modules/linear_model.html#logistic-regression\n",
            "  n_iter_i = _check_optimize_result(\n",
            "/usr/local/lib/python3.10/dist-packages/sklearn/linear_model/_logistic.py:458: ConvergenceWarning: lbfgs failed to converge (status=1):\n",
            "STOP: TOTAL NO. of ITERATIONS REACHED LIMIT.\n",
            "\n",
            "Increase the number of iterations (max_iter) or scale the data as shown in:\n",
            "    https://scikit-learn.org/stable/modules/preprocessing.html\n",
            "Please also refer to the documentation for alternative solver options:\n",
            "    https://scikit-learn.org/stable/modules/linear_model.html#logistic-regression\n",
            "  n_iter_i = _check_optimize_result(\n",
            "/usr/local/lib/python3.10/dist-packages/sklearn/linear_model/_logistic.py:458: ConvergenceWarning: lbfgs failed to converge (status=1):\n",
            "STOP: TOTAL NO. of ITERATIONS REACHED LIMIT.\n",
            "\n",
            "Increase the number of iterations (max_iter) or scale the data as shown in:\n",
            "    https://scikit-learn.org/stable/modules/preprocessing.html\n",
            "Please also refer to the documentation for alternative solver options:\n",
            "    https://scikit-learn.org/stable/modules/linear_model.html#logistic-regression\n",
            "  n_iter_i = _check_optimize_result(\n",
            "/usr/local/lib/python3.10/dist-packages/sklearn/linear_model/_logistic.py:458: ConvergenceWarning: lbfgs failed to converge (status=1):\n",
            "STOP: TOTAL NO. of ITERATIONS REACHED LIMIT.\n",
            "\n",
            "Increase the number of iterations (max_iter) or scale the data as shown in:\n",
            "    https://scikit-learn.org/stable/modules/preprocessing.html\n",
            "Please also refer to the documentation for alternative solver options:\n",
            "    https://scikit-learn.org/stable/modules/linear_model.html#logistic-regression\n",
            "  n_iter_i = _check_optimize_result(\n",
            "/usr/local/lib/python3.10/dist-packages/sklearn/linear_model/_logistic.py:458: ConvergenceWarning: lbfgs failed to converge (status=1):\n",
            "STOP: TOTAL NO. of ITERATIONS REACHED LIMIT.\n",
            "\n",
            "Increase the number of iterations (max_iter) or scale the data as shown in:\n",
            "    https://scikit-learn.org/stable/modules/preprocessing.html\n",
            "Please also refer to the documentation for alternative solver options:\n",
            "    https://scikit-learn.org/stable/modules/linear_model.html#logistic-regression\n",
            "  n_iter_i = _check_optimize_result(\n",
            "/usr/local/lib/python3.10/dist-packages/sklearn/linear_model/_logistic.py:458: ConvergenceWarning: lbfgs failed to converge (status=1):\n",
            "STOP: TOTAL NO. of ITERATIONS REACHED LIMIT.\n",
            "\n",
            "Increase the number of iterations (max_iter) or scale the data as shown in:\n",
            "    https://scikit-learn.org/stable/modules/preprocessing.html\n",
            "Please also refer to the documentation for alternative solver options:\n",
            "    https://scikit-learn.org/stable/modules/linear_model.html#logistic-regression\n",
            "  n_iter_i = _check_optimize_result(\n",
            "/usr/local/lib/python3.10/dist-packages/sklearn/linear_model/_logistic.py:458: ConvergenceWarning: lbfgs failed to converge (status=1):\n",
            "STOP: TOTAL NO. of ITERATIONS REACHED LIMIT.\n",
            "\n",
            "Increase the number of iterations (max_iter) or scale the data as shown in:\n",
            "    https://scikit-learn.org/stable/modules/preprocessing.html\n",
            "Please also refer to the documentation for alternative solver options:\n",
            "    https://scikit-learn.org/stable/modules/linear_model.html#logistic-regression\n",
            "  n_iter_i = _check_optimize_result(\n",
            "/usr/local/lib/python3.10/dist-packages/sklearn/linear_model/_logistic.py:458: ConvergenceWarning: lbfgs failed to converge (status=1):\n",
            "STOP: TOTAL NO. of ITERATIONS REACHED LIMIT.\n",
            "\n",
            "Increase the number of iterations (max_iter) or scale the data as shown in:\n",
            "    https://scikit-learn.org/stable/modules/preprocessing.html\n",
            "Please also refer to the documentation for alternative solver options:\n",
            "    https://scikit-learn.org/stable/modules/linear_model.html#logistic-regression\n",
            "  n_iter_i = _check_optimize_result(\n",
            "/usr/local/lib/python3.10/dist-packages/sklearn/linear_model/_logistic.py:458: ConvergenceWarning: lbfgs failed to converge (status=1):\n",
            "STOP: TOTAL NO. of ITERATIONS REACHED LIMIT.\n",
            "\n",
            "Increase the number of iterations (max_iter) or scale the data as shown in:\n",
            "    https://scikit-learn.org/stable/modules/preprocessing.html\n",
            "Please also refer to the documentation for alternative solver options:\n",
            "    https://scikit-learn.org/stable/modules/linear_model.html#logistic-regression\n",
            "  n_iter_i = _check_optimize_result(\n",
            "/usr/local/lib/python3.10/dist-packages/sklearn/linear_model/_logistic.py:458: ConvergenceWarning: lbfgs failed to converge (status=1):\n",
            "STOP: TOTAL NO. of ITERATIONS REACHED LIMIT.\n",
            "\n",
            "Increase the number of iterations (max_iter) or scale the data as shown in:\n",
            "    https://scikit-learn.org/stable/modules/preprocessing.html\n",
            "Please also refer to the documentation for alternative solver options:\n",
            "    https://scikit-learn.org/stable/modules/linear_model.html#logistic-regression\n",
            "  n_iter_i = _check_optimize_result(\n",
            "/usr/local/lib/python3.10/dist-packages/sklearn/linear_model/_logistic.py:458: ConvergenceWarning: lbfgs failed to converge (status=1):\n",
            "STOP: TOTAL NO. of ITERATIONS REACHED LIMIT.\n",
            "\n",
            "Increase the number of iterations (max_iter) or scale the data as shown in:\n",
            "    https://scikit-learn.org/stable/modules/preprocessing.html\n",
            "Please also refer to the documentation for alternative solver options:\n",
            "    https://scikit-learn.org/stable/modules/linear_model.html#logistic-regression\n",
            "  n_iter_i = _check_optimize_result(\n",
            "/usr/local/lib/python3.10/dist-packages/sklearn/linear_model/_logistic.py:458: ConvergenceWarning: lbfgs failed to converge (status=1):\n",
            "STOP: TOTAL NO. of ITERATIONS REACHED LIMIT.\n",
            "\n",
            "Increase the number of iterations (max_iter) or scale the data as shown in:\n",
            "    https://scikit-learn.org/stable/modules/preprocessing.html\n",
            "Please also refer to the documentation for alternative solver options:\n",
            "    https://scikit-learn.org/stable/modules/linear_model.html#logistic-regression\n",
            "  n_iter_i = _check_optimize_result(\n",
            "/usr/local/lib/python3.10/dist-packages/sklearn/linear_model/_logistic.py:458: ConvergenceWarning: lbfgs failed to converge (status=1):\n",
            "STOP: TOTAL NO. of ITERATIONS REACHED LIMIT.\n",
            "\n",
            "Increase the number of iterations (max_iter) or scale the data as shown in:\n",
            "    https://scikit-learn.org/stable/modules/preprocessing.html\n",
            "Please also refer to the documentation for alternative solver options:\n",
            "    https://scikit-learn.org/stable/modules/linear_model.html#logistic-regression\n",
            "  n_iter_i = _check_optimize_result(\n",
            "/usr/local/lib/python3.10/dist-packages/sklearn/linear_model/_logistic.py:458: ConvergenceWarning: lbfgs failed to converge (status=1):\n",
            "STOP: TOTAL NO. of ITERATIONS REACHED LIMIT.\n",
            "\n",
            "Increase the number of iterations (max_iter) or scale the data as shown in:\n",
            "    https://scikit-learn.org/stable/modules/preprocessing.html\n",
            "Please also refer to the documentation for alternative solver options:\n",
            "    https://scikit-learn.org/stable/modules/linear_model.html#logistic-regression\n",
            "  n_iter_i = _check_optimize_result(\n"
          ]
        },
        {
          "output_type": "execute_result",
          "data": {
            "text/plain": [
              "({'classifier': RandomForestClassifier(random_state=42),\n",
              "  'classifier__max_depth': None,\n",
              "  'classifier__min_samples_split': 2,\n",
              "  'classifier__n_estimators': 100,\n",
              "  'preprocessor__num__imputer__strategy': 'median'},\n",
              " 0.9529070833791863)"
            ]
          },
          "metadata": {},
          "execution_count": 18
        }
      ]
    },
    {
      "cell_type": "markdown",
      "source": [
        "# Tunning RandomForest"
      ],
      "metadata": {
        "id": "QTkOMJav7Uln"
      }
    },
    {
      "cell_type": "code",
      "source": [
        "from sklearn.model_selection import train_test_split, GridSearchCV\n",
        "from sklearn.ensemble import RandomForestClassifier\n",
        "from sklearn.metrics import accuracy_score\n",
        "from sklearn.pipeline import Pipeline\n",
        "from sklearn.compose import ColumnTransformer\n",
        "from sklearn.preprocessing import StandardScaler, OneHotEncoder\n",
        "from sklearn.impute import SimpleImputer\n",
        "\n",
        "# Splitting the data into features and target\n",
        "X = housing_data.drop('Expensive', axis=1)\n",
        "y = housing_data['Expensive']\n",
        "\n",
        "# Splitting the data into training and test sets\n",
        "X_train, X_test, y_train, y_test = train_test_split(X, y, test_size=0.2, random_state=42)\n",
        "\n",
        "# Identifying numerical and categorical columns\n",
        "num_cols = X_train.select_dtypes(include=['int64', 'float64']).columns\n",
        "cat_cols = X_train.select_dtypes(include=['object']).columns\n",
        "\n",
        "# Preprocessor\n",
        "num_transformer = Pipeline(steps=[\n",
        "    ('imputer', SimpleImputer(strategy='median')),\n",
        "    ('scaler', StandardScaler())])\n",
        "\n",
        "cat_transformer = Pipeline(steps=[\n",
        "    ('imputer', SimpleImputer(strategy='most_frequent')),\n",
        "    ('onehot', OneHotEncoder(handle_unknown='ignore'))])\n",
        "\n",
        "preprocessor = ColumnTransformer(\n",
        "    transformers=[\n",
        "        ('num', num_transformer, num_cols),\n",
        "        ('cat', cat_transformer, cat_cols)])"
      ],
      "metadata": {
        "id": "0yxLCAcZ7vKi"
      },
      "execution_count": 19,
      "outputs": []
    },
    {
      "cell_type": "code",
      "source": [
        "# Random Forest Classifier pipeline\n",
        "rf_pipeline = Pipeline(steps=[('preprocessor', preprocessor),\n",
        "                              ('classifier', RandomForestClassifier(random_state=42))])\n",
        "\n",
        "# Finer grid of hyperparameters\n",
        "param_grid_finer = {\n",
        "    'classifier__n_estimators': [90, 100, 110],\n",
        "    'classifier__max_depth': [None, 10, 20, 30],\n",
        "    'classifier__min_samples_split': [2, 3, 4],\n",
        "    'classifier__max_features': ['sqrt'],\n",
        "    'classifier__min_samples_leaf': [1, 2, 3],\n",
        "    'preprocessor__num__imputer__strategy': ['mean', 'median']\n",
        "}\n",
        "\n",
        "# Grid Search with Random Forest Classifier\n",
        "grid_search_finer = GridSearchCV(rf_pipeline, param_grid_finer, cv=5, scoring='accuracy', verbose=1)\n",
        "grid_search_finer.fit(X_train, y_train)\n",
        "\n",
        "# Best parameters and model\n",
        "best_params_finer = grid_search_finer.best_params_\n",
        "best_model_finer = grid_search_finer.best_estimator_\n",
        "best_score_finer = grid_search_finer.best_score_\n",
        "\n",
        "best_params_finer, best_score_finer\n"
      ],
      "metadata": {
        "colab": {
          "base_uri": "https://localhost:8080/"
        },
        "id": "YNkaXiRn7YGj",
        "outputId": "18e61a63-488d-4b23-fea0-9c11c8d446df"
      },
      "execution_count": 21,
      "outputs": [
        {
          "output_type": "stream",
          "name": "stdout",
          "text": [
            "Fitting 5 folds for each of 216 candidates, totalling 1080 fits\n"
          ]
        },
        {
          "output_type": "execute_result",
          "data": {
            "text/plain": [
              "({'classifier__max_depth': 10,\n",
              "  'classifier__max_features': 'sqrt',\n",
              "  'classifier__min_samples_leaf': 1,\n",
              "  'classifier__min_samples_split': 4,\n",
              "  'classifier__n_estimators': 90,\n",
              "  'preprocessor__num__imputer__strategy': 'median'},\n",
              " 0.9537654524778988)"
            ]
          },
          "metadata": {},
          "execution_count": 21
        }
      ]
    },
    {
      "cell_type": "code",
      "source": [
        "# Import the accuracy_score function\n",
        "from sklearn.metrics import accuracy_score\n",
        "\n",
        "# Create a Random Forest Classifier with the best parameters from the first set\n",
        "final_rf_model = RandomForestClassifier(\n",
        "    max_depth=None,\n",
        "    max_features='sqrt',\n",
        "    min_samples_leaf=1,\n",
        "    min_samples_split=4,\n",
        "    n_estimators=100,\n",
        "    random_state=42)\n",
        "\n",
        "# Create a pipeline with the final Random Forest model\n",
        "num_transformer_final = Pipeline(steps=[\n",
        "    ('imputer', SimpleImputer(strategy='mean')),\n",
        "    ('scaler', StandardScaler())])\n",
        "\n",
        "preprocessor_final = ColumnTransformer(\n",
        "    transformers=[\n",
        "        ('num', num_transformer_final, num_cols),\n",
        "        ('cat', cat_transformer, cat_cols)])\n",
        "\n",
        "final_rf_pipeline = Pipeline(steps=[('preprocessor', preprocessor_final),\n",
        "                                    ('classifier', final_rf_model)])\n",
        "\n",
        "# Fit the pipeline to the training data\n",
        "final_rf_pipeline.fit(X_train, y_train)\n",
        "\n",
        "# Evaluate the final model on the test set\n",
        "final_predictions = final_rf_pipeline.predict(X_test)\n",
        "final_accuracy_2 = accuracy_score(y_test, final_predictions)\n",
        "\n",
        "final_accuracy_2"
      ],
      "metadata": {
        "colab": {
          "base_uri": "https://localhost:8080/"
        },
        "id": "01VTWDD18EBh",
        "outputId": "0d3c106b-2bf8-47f6-9068-70da1e2ca5f6"
      },
      "execution_count": 23,
      "outputs": [
        {
          "output_type": "execute_result",
          "data": {
            "text/plain": [
              "0.9452054794520548"
            ]
          },
          "metadata": {},
          "execution_count": 23
        }
      ]
    },
    {
      "cell_type": "code",
      "source": [
        "# Import the accuracy_score function\n",
        "from sklearn.metrics import accuracy_score\n",
        "\n",
        "# Create a Random Forest Classifier with the best parameters from the first set\n",
        "final_rf_model = RandomForestClassifier(\n",
        "    max_depth=10,\n",
        "    max_features='auto',\n",
        "    min_samples_leaf=1,\n",
        "    min_samples_split=4,\n",
        "    n_estimators=90,\n",
        "    random_state=42)\n",
        "\n",
        "# Create a pipeline with the final Random Forest model\n",
        "num_transformer_final = Pipeline(steps=[\n",
        "    ('imputer', SimpleImputer(strategy='median')),\n",
        "    ('scaler', StandardScaler())])\n",
        "\n",
        "preprocessor_final = ColumnTransformer(\n",
        "    transformers=[\n",
        "        ('num', num_transformer_final, num_cols),\n",
        "        ('cat', cat_transformer, cat_cols)])\n",
        "\n",
        "final_rf_pipeline = Pipeline(steps=[('preprocessor', preprocessor_final),\n",
        "                                    ('classifier', final_rf_model)])\n",
        "\n",
        "# Fit the pipeline to the training data\n",
        "final_rf_pipeline.fit(X_train, y_train)\n",
        "\n",
        "# Evaluate the final model on the test set\n",
        "final_predictions = final_rf_pipeline.predict(X_test)\n",
        "final_accuracy = accuracy_score(y_test, final_predictions)\n",
        "\n",
        "final_accuracy\n"
      ],
      "metadata": {
        "colab": {
          "base_uri": "https://localhost:8080/"
        },
        "id": "oa97OLRzLw1r",
        "outputId": "5bf17f50-a627-49a3-ef0d-abf64546dc1b"
      },
      "execution_count": 24,
      "outputs": [
        {
          "output_type": "stream",
          "name": "stderr",
          "text": [
            "/usr/local/lib/python3.10/dist-packages/sklearn/ensemble/_forest.py:424: FutureWarning: `max_features='auto'` has been deprecated in 1.1 and will be removed in 1.3. To keep the past behaviour, explicitly set `max_features='sqrt'` or remove this parameter as it is also the default value for RandomForestClassifiers and ExtraTreesClassifiers.\n",
            "  warn(\n"
          ]
        },
        {
          "output_type": "execute_result",
          "data": {
            "text/plain": [
              "0.9452054794520548"
            ]
          },
          "metadata": {},
          "execution_count": 24
        }
      ]
    }
  ]
}